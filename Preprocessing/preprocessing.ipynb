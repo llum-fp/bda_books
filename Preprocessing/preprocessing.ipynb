{
 "cells": [
  {
   "cell_type": "code",
   "execution_count": 7,
   "metadata": {},
   "outputs": [],
   "source": [
    "import pandas as pd\n",
    "import polars as pl\n",
    "import json"
   ]
  },
  {
   "cell_type": "markdown",
   "metadata": {},
   "source": [
    "### Authors"
   ]
  },
  {
   "cell_type": "code",
   "execution_count": 8,
   "metadata": {},
   "outputs": [],
   "source": [
    "df = pd.read_json('goodreads_book_authors.json', lines=True)"
   ]
  },
  {
   "cell_type": "code",
   "execution_count": 19,
   "metadata": {},
   "outputs": [
    {
     "data": {
      "text/html": [
       "<div>\n",
       "<style scoped>\n",
       "    .dataframe tbody tr th:only-of-type {\n",
       "        vertical-align: middle;\n",
       "    }\n",
       "\n",
       "    .dataframe tbody tr th {\n",
       "        vertical-align: top;\n",
       "    }\n",
       "\n",
       "    .dataframe thead th {\n",
       "        text-align: right;\n",
       "    }\n",
       "</style>\n",
       "<table border=\"1\" class=\"dataframe\">\n",
       "  <thead>\n",
       "    <tr style=\"text-align: right;\">\n",
       "      <th></th>\n",
       "      <th>average_rating</th>\n",
       "      <th>author_id</th>\n",
       "      <th>name</th>\n",
       "      <th>ratings_count</th>\n",
       "    </tr>\n",
       "  </thead>\n",
       "  <tbody>\n",
       "    <tr>\n",
       "      <th>0</th>\n",
       "      <td>3.98</td>\n",
       "      <td>604031</td>\n",
       "      <td>Ronald J. Fields</td>\n",
       "      <td>49</td>\n",
       "    </tr>\n",
       "    <tr>\n",
       "      <th>1</th>\n",
       "      <td>4.08</td>\n",
       "      <td>626222</td>\n",
       "      <td>Anita Diamant</td>\n",
       "      <td>546796</td>\n",
       "    </tr>\n",
       "    <tr>\n",
       "      <th>2</th>\n",
       "      <td>3.92</td>\n",
       "      <td>10333</td>\n",
       "      <td>Barbara Hambly</td>\n",
       "      <td>122118</td>\n",
       "    </tr>\n",
       "    <tr>\n",
       "      <th>3</th>\n",
       "      <td>3.68</td>\n",
       "      <td>9212</td>\n",
       "      <td>Jennifer Weiner</td>\n",
       "      <td>888522</td>\n",
       "    </tr>\n",
       "    <tr>\n",
       "      <th>4</th>\n",
       "      <td>3.82</td>\n",
       "      <td>149918</td>\n",
       "      <td>Nigel Pennick</td>\n",
       "      <td>1740</td>\n",
       "    </tr>\n",
       "    <tr>\n",
       "      <th>...</th>\n",
       "      <td>...</td>\n",
       "      <td>...</td>\n",
       "      <td>...</td>\n",
       "      <td>...</td>\n",
       "    </tr>\n",
       "    <tr>\n",
       "      <th>829524</th>\n",
       "      <td>4.36</td>\n",
       "      <td>197551</td>\n",
       "      <td>Patty Furbush</td>\n",
       "      <td>11</td>\n",
       "    </tr>\n",
       "    <tr>\n",
       "      <th>829525</th>\n",
       "      <td>4.33</td>\n",
       "      <td>3988103</td>\n",
       "      <td>Jim Schlinkman</td>\n",
       "      <td>6</td>\n",
       "    </tr>\n",
       "    <tr>\n",
       "      <th>829526</th>\n",
       "      <td>4.00</td>\n",
       "      <td>13464507</td>\n",
       "      <td>Rich Jolly</td>\n",
       "      <td>18</td>\n",
       "    </tr>\n",
       "    <tr>\n",
       "      <th>829527</th>\n",
       "      <td>3.31</td>\n",
       "      <td>7427847</td>\n",
       "      <td>sr@ mwrGn</td>\n",
       "      <td>13</td>\n",
       "    </tr>\n",
       "    <tr>\n",
       "      <th>829528</th>\n",
       "      <td>3.70</td>\n",
       "      <td>5401342</td>\n",
       "      <td>Barry S. Brown</td>\n",
       "      <td>43</td>\n",
       "    </tr>\n",
       "  </tbody>\n",
       "</table>\n",
       "<p>829529 rows × 4 columns</p>\n",
       "</div>"
      ],
      "text/plain": [
       "        average_rating  author_id              name  ratings_count\n",
       "0                 3.98     604031  Ronald J. Fields             49\n",
       "1                 4.08     626222     Anita Diamant         546796\n",
       "2                 3.92      10333    Barbara Hambly         122118\n",
       "3                 3.68       9212   Jennifer Weiner         888522\n",
       "4                 3.82     149918     Nigel Pennick           1740\n",
       "...                ...        ...               ...            ...\n",
       "829524            4.36     197551     Patty Furbush             11\n",
       "829525            4.33    3988103    Jim Schlinkman              6\n",
       "829526            4.00   13464507        Rich Jolly             18\n",
       "829527            3.31    7427847         sr@ mwrGn             13\n",
       "829528            3.70    5401342    Barry S. Brown             43\n",
       "\n",
       "[829529 rows x 4 columns]"
      ]
     },
     "execution_count": 19,
     "metadata": {},
     "output_type": "execute_result"
    }
   ],
   "source": [
    "df = df.drop(columns='text_reviews_count')\n",
    "df"
   ]
  },
  {
   "cell_type": "markdown",
   "metadata": {},
   "source": [
    "### Interactions"
   ]
  },
  {
   "cell_type": "code",
   "execution_count": 5,
   "metadata": {},
   "outputs": [
    {
     "name": "stdout",
     "output_type": "stream",
     "text": [
      "Filtrado completado. El archivo filtrado se ha guardado como 'archivo_filtrado.csv'.\n"
     ]
    }
   ],
   "source": [
    "interact_path = \"C:/Users/Usuario/Datos/goodreads_interactions.csv\"\n",
    "new_path = \"C:/Users/Usuario/Datos/interactions_filtered.csv\"\n",
    "\n",
    "# Lee el archivo CSV\n",
    "df = pl.read_csv(interact_path)\n",
    "\n",
    "# Filtra las filas donde is_read == 0\n",
    "df_filtrado = df.filter(pl.col('is_read') != 0)\n",
    "\n",
    "# Guarda el resultado en un nuevo archivo CSV\n",
    "df_filtrado.write_csv(new_path)\n",
    "\n",
    "print(\"Filtrado completado. El archivo filtrado se ha guardado como 'archivo_filtrado.csv'.\")\n"
   ]
  },
  {
   "cell_type": "code",
   "execution_count": 9,
   "metadata": {},
   "outputs": [
    {
     "name": "stderr",
     "output_type": "stream",
     "text": [
      "C:\\Users\\Usuario\\AppData\\Local\\Temp\\ipykernel_10080\\4251902593.py:2: DeprecationWarning: `groupby` is deprecated. It has been renamed to `group_by`.\n",
      "  user_counts = df_filtrado.groupby('user_id').agg(pl.count('is_read').alias('count'))\n"
     ]
    },
    {
     "name": "stdout",
     "output_type": "stream",
     "text": [
      "(2699934, 5)\n",
      "shape: (5, 5)\n",
      "┌─────────┬─────────┬─────────┬────────┬─────────────┐\n",
      "│ user_id ┆ book_id ┆ is_read ┆ rating ┆ is_reviewed │\n",
      "│ ---     ┆ ---     ┆ ---     ┆ ---    ┆ ---         │\n",
      "│ i64     ┆ i64     ┆ i64     ┆ i64    ┆ i64         │\n",
      "╞═════════╪═════════╪═════════╪════════╪═════════════╡\n",
      "│ 102     ┆ 670     ┆ 1       ┆ 5      ┆ 0           │\n",
      "│ 102     ┆ 998     ┆ 1       ┆ 5      ┆ 0           │\n",
      "│ 102     ┆ 996     ┆ 1       ┆ 5      ┆ 0           │\n",
      "│ 102     ┆ 12971   ┆ 1       ┆ 5      ┆ 0           │\n",
      "│ 102     ┆ 43      ┆ 1       ┆ 5      ┆ 0           │\n",
      "└─────────┴─────────┴─────────┴────────┴─────────────┘\n"
     ]
    }
   ],
   "source": [
    "final_path = \"C:/Users/Usuario/Datos/interactions_sample.csv\"\n",
    "user_counts = df_filtrado.groupby('user_id').agg(pl.count('is_read').alias('count'))\n",
    "\n",
    "# Paso 2: Seleccionar una muestra aleatoria de 20,000 user_id únicos\n",
    "sampled_user_ids = user_counts.sample(n=20000, with_replacement=False).select('user_id')\n",
    "\n",
    "# Paso 3: Filtrar el DataFrame original usando estos user_id seleccionados\n",
    "df_sampled = df_filtrado.join(sampled_user_ids, on='user_id', how='inner')\n",
    "\n",
    "df_sampled.write_csv(final_path)\n",
    "\n",
    "# Verificar el resultado\n",
    "print(df_sampled.shape)\n",
    "print(df_sampled.head())"
   ]
  }
 ],
 "metadata": {
  "kernelspec": {
   "display_name": "Python 3",
   "language": "python",
   "name": "python3"
  },
  "language_info": {
   "codemirror_mode": {
    "name": "ipython",
    "version": 3
   },
   "file_extension": ".py",
   "mimetype": "text/x-python",
   "name": "python",
   "nbconvert_exporter": "python",
   "pygments_lexer": "ipython3",
   "version": "3.12.2"
  }
 },
 "nbformat": 4,
 "nbformat_minor": 2
}
