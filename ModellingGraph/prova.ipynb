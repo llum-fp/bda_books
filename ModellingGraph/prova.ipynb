{
 "cells": [
  {
   "cell_type": "code",
   "execution_count": 6,
   "metadata": {},
   "outputs": [],
   "source": [
    "import pandas as pd # for handling csv and csv contents using data frames\n",
    "import rdflib # for handling RDF(S) data, generating triples, posing sparql queries etc.\n",
    "from SPARQLWrapper import SPARQLWrapper, JSON, RDFXML, TURTLE, CSV # for generating and executing SPARQL query over the SPARQL endpoint.\n",
    "from rdflib.namespace import FOAF , XSD, RDF # most common namespaces (help us to type our data with some common knowledge)\n",
    "import urllib.parse # for parsing strings to URI's\n",
    "from rdflib import Graph, URIRef, Literal, BNode"
   ]
  },
  {
   "cell_type": "code",
   "execution_count": 2,
   "metadata": {},
   "outputs": [],
   "source": [
    "authors_df = pd.read_csv('../Data/authors_final.csv')\n",
    "genres_df = pd.read_csv('../Data/genres_pages_x_books.csv')\n",
    "interactions_df = pd.read_csv('../Data/interactions_final.csv')\n",
    "filtered_books_df = pd.read_csv('../Data/filtered_books.csv')"
   ]
  },
  {
   "cell_type": "code",
   "execution_count": 5,
   "metadata": {},
   "outputs": [],
   "source": [
    "g = rdflib.Graph()\n",
    "aut = rdflib.Namespace('http://my_project/author')\n",
    "bk = rdflib.Namespace('http://my_project/book')\n",
    "lec = rdflib.Namespace('http:my_project/lector')"
   ]
  },
  {
   "cell_type": "code",
   "execution_count": null,
   "metadata": {},
   "outputs": [],
   "source": [
    "for index, row in authors_df.iterrows():\n",
    "    g.add((rdflib.URIRef(aut+row['author_id']),RDF.type, ))\n",
    "    g.add((rdflib.URIRef(ppl+row['Name']), RDF.type, FOAF.Person))\n",
    "    g.add((rdflib.URIRef(ppl+row['Name']), rdflib.URIRef(schema+'name'), rdflib.Literal(row['Name'], datatype=XSD.string) ))\n",
    "    g.add((rdflib.URIRef(ppl+row['Name']), FOAF.age, rdflib.Literal(row['Age'], datatype=XSD.integer) ))\n",
    "    g.add((rdflib.URIRef(ppl+row['Name']), rdflib.URIRef(schema+'address'), rdflib.Literal(row['Address'], datatype=XSD.string) ))\n",
    "    g.add((rdflib.URIRef(loc+urllib.parse.quote(row['Address'])), rdflib.URIRef(schema+'name'), rdflib.Literal(row['Address'], datatype=XSD.string) ))"
   ]
  },
  {
   "cell_type": "code",
   "execution_count": 11,
   "metadata": {},
   "outputs": [
    {
     "ename": "AttributeError",
     "evalue": "term 'TYPE' not in namespace 'http://www.w3.org/1999/02/22-rdf-syntax-ns#'",
     "output_type": "error",
     "traceback": [
      "\u001b[1;31m---------------------------------------------------------------------------\u001b[0m",
      "\u001b[1;31mAttributeError\u001b[0m                            Traceback (most recent call last)",
      "Cell \u001b[1;32mIn[11], line 4\u001b[0m\n\u001b[0;32m      2\u001b[0m \u001b[38;5;28;01mfor\u001b[39;00m row \u001b[38;5;129;01min\u001b[39;00m authors_df\u001b[38;5;241m.\u001b[39mitertuples():\n\u001b[0;32m      3\u001b[0m     author_uri \u001b[38;5;241m=\u001b[39m BNode()\n\u001b[1;32m----> 4\u001b[0m     g\u001b[38;5;241m.\u001b[39madd((author_uri, \u001b[43mRDF\u001b[49m\u001b[38;5;241;43m.\u001b[39;49m\u001b[43mTYPE\u001b[49m, aut[\u001b[38;5;124m'\u001b[39m\u001b[38;5;124mAuthor\u001b[39m\u001b[38;5;124m'\u001b[39m]))  \u001b[38;5;66;03m# Use aut['Author'] for consistent namespace reference\u001b[39;00m\n\u001b[0;32m      6\u001b[0m     g\u001b[38;5;241m.\u001b[39madd((author_uri, aut[\u001b[38;5;124m'\u001b[39m\u001b[38;5;124mname\u001b[39m\u001b[38;5;124m'\u001b[39m], Literal(row\u001b[38;5;241m.\u001b[39mname, datatype\u001b[38;5;241m=\u001b[39mXSD\u001b[38;5;241m.\u001b[39mstring)))\n\u001b[0;32m      7\u001b[0m     g\u001b[38;5;241m.\u001b[39madd((author_uri, aut[\u001b[38;5;124m'\u001b[39m\u001b[38;5;124maverageRating\u001b[39m\u001b[38;5;124m'\u001b[39m], Literal(row\u001b[38;5;241m.\u001b[39maverage_rating, datatype\u001b[38;5;241m=\u001b[39mXSD\u001b[38;5;241m.\u001b[39mfloat)))\n",
      "File \u001b[1;32mc:\\Users\\Usuario\\OneDrive\\Uni\\BDA\\Lab\\Practica2\\venv\\Lib\\site-packages\\rdflib\\namespace\\__init__.py:265\u001b[0m, in \u001b[0;36mDefinedNamespaceMeta.__getattr__\u001b[1;34m(cls, name)\u001b[0m\n\u001b[0;32m    264\u001b[0m \u001b[38;5;28;01mdef\u001b[39;00m \u001b[38;5;21m__getattr__\u001b[39m(\u001b[38;5;28mcls\u001b[39m, name: \u001b[38;5;28mstr\u001b[39m):\n\u001b[1;32m--> 265\u001b[0m     \u001b[38;5;28;01mreturn\u001b[39;00m \u001b[38;5;28;43mcls\u001b[39;49m\u001b[38;5;241;43m.\u001b[39;49m\u001b[38;5;21;43m__getitem__\u001b[39;49m\u001b[43m(\u001b[49m\u001b[43mname\u001b[49m\u001b[43m)\u001b[49m\n",
      "File \u001b[1;32mc:\\Users\\Usuario\\OneDrive\\Uni\\BDA\\Lab\\Practica2\\venv\\Lib\\site-packages\\rdflib\\namespace\\__init__.py:256\u001b[0m, in \u001b[0;36mDefinedNamespaceMeta.__getitem__\u001b[1;34m(cls, name, default)\u001b[0m\n\u001b[0;32m    254\u001b[0m \u001b[38;5;28;01mif\u001b[39;00m (\u001b[38;5;28mcls\u001b[39m\u001b[38;5;241m.\u001b[39m_warn \u001b[38;5;129;01mor\u001b[39;00m \u001b[38;5;28mcls\u001b[39m\u001b[38;5;241m.\u001b[39m_fail) \u001b[38;5;129;01mand\u001b[39;00m name \u001b[38;5;129;01mnot\u001b[39;00m \u001b[38;5;129;01min\u001b[39;00m \u001b[38;5;28mcls\u001b[39m:\n\u001b[0;32m    255\u001b[0m     \u001b[38;5;28;01mif\u001b[39;00m \u001b[38;5;28mcls\u001b[39m\u001b[38;5;241m.\u001b[39m_fail:\n\u001b[1;32m--> 256\u001b[0m         \u001b[38;5;28;01mraise\u001b[39;00m \u001b[38;5;167;01mAttributeError\u001b[39;00m(\u001b[38;5;124mf\u001b[39m\u001b[38;5;124m\"\u001b[39m\u001b[38;5;124mterm \u001b[39m\u001b[38;5;124m'\u001b[39m\u001b[38;5;132;01m{\u001b[39;00mname\u001b[38;5;132;01m}\u001b[39;00m\u001b[38;5;124m'\u001b[39m\u001b[38;5;124m not in namespace \u001b[39m\u001b[38;5;124m'\u001b[39m\u001b[38;5;132;01m{\u001b[39;00m\u001b[38;5;28mcls\u001b[39m\u001b[38;5;241m.\u001b[39m_NS\u001b[38;5;132;01m}\u001b[39;00m\u001b[38;5;124m'\u001b[39m\u001b[38;5;124m\"\u001b[39m)\n\u001b[0;32m    257\u001b[0m     \u001b[38;5;28;01melse\u001b[39;00m:\n\u001b[0;32m    258\u001b[0m         warnings\u001b[38;5;241m.\u001b[39mwarn(\n\u001b[0;32m    259\u001b[0m             \u001b[38;5;124mf\u001b[39m\u001b[38;5;124m\"\u001b[39m\u001b[38;5;124mCode: \u001b[39m\u001b[38;5;132;01m{\u001b[39;00mname\u001b[38;5;132;01m}\u001b[39;00m\u001b[38;5;124m is not defined in namespace \u001b[39m\u001b[38;5;132;01m{\u001b[39;00m\u001b[38;5;28mcls\u001b[39m\u001b[38;5;241m.\u001b[39m\u001b[38;5;18m__name__\u001b[39m\u001b[38;5;132;01m}\u001b[39;00m\u001b[38;5;124m\"\u001b[39m,\n\u001b[0;32m    260\u001b[0m             stacklevel\u001b[38;5;241m=\u001b[39m\u001b[38;5;241m3\u001b[39m,\n\u001b[0;32m    261\u001b[0m         )\n",
      "\u001b[1;31mAttributeError\u001b[0m: term 'TYPE' not in namespace 'http://www.w3.org/1999/02/22-rdf-syntax-ns#'"
     ]
    }
   ],
   "source": [
    "# Loop through authors dataframe\n",
    "for row in authors_df.itertuples():\n",
    "    author_uri = BNode()\n",
    "    g.add((author_uri, RDF.TYPE, aut['Author']))  # Use aut['Author'] for consistent namespace reference\n",
    "\n",
    "    g.add((author_uri, aut['name'], Literal(row.name, datatype=XSD.string)))\n",
    "    g.add((author_uri, aut['averageRating'], Literal(row.average_rating, datatype=XSD.float)))\n",
    "    g.add((author_uri, aut['ratingsCount'], Literal(row.ratings_count, datatype=XSD.integer)))\n",
    "\n",
    "# Loop through filtered_books dataframe\n",
    "for row in filtered_books_df.itertuples():\n",
    "    book_uri = BNode()\n",
    "    g.add((book_uri, RDF.TYPE, bk['Book']))  # Use bk['Book'] for consistent namespace reference\n",
    "\n",
    "    g.add((book_uri, bk['title'], Literal(row.title, datatype=XSD.string)))\n",
    "    g.add((book_uri, bk['publicationYear'], Literal(row.publication_year, datatype=XSD.string)))\n",
    "\n",
    "    for author_name in row.authors:\n",
    "        author_uri = URIRef(f'{aut}{author_name}')  # Assuming author names are unique identifiers within your project\n",
    "        g.add((book_uri, bk['writtenBy'], author_uri))\n",
    "\n",
    "    for similar_book_title in row.similar_books:\n",
    "        similar_book_uri = BNode()\n",
    "        g.add((similar_book_uri, RDF.TYPE, bk['Book']))  # Use bk['Book'] for consistent namespace reference\n",
    "        g.add((similar_book_uri, bk['title'], Literal(similar_book_title, datatype=XSD.string)))\n",
    "        g.add((book_uri, bk['similarTo'], similar_book_uri))\n",
    "\n",
    "# Loop through genres dataframe\n",
    "for row in genres_df.itertuples():\n",
    "    genre_uri = URIRef(f'http://my_project/genre/{row.name}')  # Assuming genre names are URLs within your project\n",
    "    g.add((genre_uri, RDF.TYPE, bk['Genre']))  # Genre might be a sub-class of bk (modify if needed)\n",
    "\n",
    "    g.add((genre_uri, bk['probability'], Literal(row[row.name], datatype=XSD.float)))  # Assuming probability is a column in genres_df\n",
    "\n",
    "    book_uri = URIRef(f'{bk}Book/{row.book_id}')  # Assuming book_id is a URL within your project\n",
    "    g.add((book_uri, bk['belongsTo'], genre_uri))\n",
    "\n",
    "# Loop through interactions dataframe\n",
    "for row in interactions_df.itertuples():\n",
    "    user_uri = BNode()\n",
    "    g.add((user_uri, RDF.TYPE, lec['User']))  # Use lec['User'] for consistent namespace reference\n",
    "    g.add((user_uri, lec['id'], Literal(row.user_id, datatype=XSD.integer)))\n",
    "\n",
    "    book_uri = URIRef(f'{bk}Book/{row.book_id}')  # Assuming book_id is a URL within your project\n",
    "    g.add((user_uri, lec['read'], book_uri) if row.is_read else None)\n",
    "    g.add((user_uri, lec['rated'], book_uri) if row.rating else None)\n",
    "    g.add((user_uri, lec['reviewed'], book_uri) if row.is_reviewed else None)"
   ]
  },
  {
   "cell_type": "code",
   "execution_count": 9,
   "metadata": {},
   "outputs": [
    {
     "name": "stdout",
     "output_type": "stream",
     "text": [
      "Pandas(Index=0, average_rating=4.08, author_id=626222, name='Anita Diamant', ratings_count=546796)\n"
     ]
    }
   ],
   "source": [
    "for a in authors_df.itertuples():\n",
    "    print(a)\n",
    "    break"
   ]
  }
 ],
 "metadata": {
  "kernelspec": {
   "display_name": "venv",
   "language": "python",
   "name": "python3"
  },
  "language_info": {
   "codemirror_mode": {
    "name": "ipython",
    "version": 3
   },
   "file_extension": ".py",
   "mimetype": "text/x-python",
   "name": "python",
   "nbconvert_exporter": "python",
   "pygments_lexer": "ipython3",
   "version": "3.12.2"
  }
 },
 "nbformat": 4,
 "nbformat_minor": 2
}
